{
  "nbformat": 4,
  "nbformat_minor": 0,
  "metadata": {
    "colab": {
      "name": "Untitled6.ipynb",
      "provenance": [],
      "authorship_tag": "ABX9TyOCCv+hehPoI3X0JJtcmclF",
      "include_colab_link": true
    },
    "kernelspec": {
      "name": "python3",
      "display_name": "Python 3"
    }
  },
  "cells": [
    {
      "cell_type": "markdown",
      "metadata": {
        "id": "view-in-github",
        "colab_type": "text"
      },
      "source": [
        "<a href=\"https://colab.research.google.com/github/4884sneha/ReflectingBear/blob/main/Untitled6.ipynb\" target=\"_parent\"><img src=\"https://colab.research.google.com/assets/colab-badge.svg\" alt=\"Open In Colab\"/></a>"
      ]
    },
    {
      "cell_type": "code",
      "metadata": {
        "id": "K1UMNQsaIkjY",
        "outputId": "b160c088-4c10-4f4a-806c-5e1ffc7939ee",
        "colab": {
          "base_uri": "https://localhost:8080/",
          "height": 333
        }
      },
      "source": [
        "# PACKAGE\n",
        "# Run this cell first once to load the dependancies.\n",
        "import numpy as np\n",
        "from numpy.linalg import norm, inv\n",
        "from numpy import transpose\n",
        "from readonly.bearNecessities import *"
      ],
      "execution_count": 1,
      "outputs": [
        {
          "output_type": "error",
          "ename": "ModuleNotFoundError",
          "evalue": "ignored",
          "traceback": [
            "\u001b[0;31m---------------------------------------------------------------------------\u001b[0m",
            "\u001b[0;31mModuleNotFoundError\u001b[0m                       Traceback (most recent call last)",
            "\u001b[0;32m<ipython-input-1-556b6d3f317d>\u001b[0m in \u001b[0;36m<module>\u001b[0;34m()\u001b[0m\n\u001b[1;32m      4\u001b[0m \u001b[0;32mfrom\u001b[0m \u001b[0mnumpy\u001b[0m\u001b[0;34m.\u001b[0m\u001b[0mlinalg\u001b[0m \u001b[0;32mimport\u001b[0m \u001b[0mnorm\u001b[0m\u001b[0;34m,\u001b[0m \u001b[0minv\u001b[0m\u001b[0;34m\u001b[0m\u001b[0;34m\u001b[0m\u001b[0m\n\u001b[1;32m      5\u001b[0m \u001b[0;32mfrom\u001b[0m \u001b[0mnumpy\u001b[0m \u001b[0;32mimport\u001b[0m \u001b[0mtranspose\u001b[0m\u001b[0;34m\u001b[0m\u001b[0;34m\u001b[0m\u001b[0m\n\u001b[0;32m----> 6\u001b[0;31m \u001b[0;32mfrom\u001b[0m \u001b[0mreadonly\u001b[0m\u001b[0;34m.\u001b[0m\u001b[0mbearNecessities\u001b[0m \u001b[0;32mimport\u001b[0m \u001b[0;34m*\u001b[0m\u001b[0;34m\u001b[0m\u001b[0;34m\u001b[0m\u001b[0m\n\u001b[0m",
            "\u001b[0;31mModuleNotFoundError\u001b[0m: No module named 'readonly'",
            "",
            "\u001b[0;31m---------------------------------------------------------------------------\u001b[0;32m\nNOTE: If your import is failing due to a missing package, you can\nmanually install dependencies using either !pip or !apt.\n\nTo view examples of installing some common dependencies, click the\n\"Open Examples\" button below.\n\u001b[0;31m---------------------------------------------------------------------------\u001b[0m\n"
          ]
        }
      ]
    },
    {
      "cell_type": "code",
      "metadata": {
        "id": "KQpvBLDJIzf9"
      },
      "source": [
        "# GRADED FUNCTION\n",
        "# You should edit this cell.\n",
        "\n",
        "# In this function, you will return the transformation matrix T,\n",
        "# having built it out of an orthonormal basis set E that you create from Bear's Basis\n",
        "# and a transformation matrix in the mirror's coordinates TE.\n",
        "def build_reflection_matrix(bearBasis) : # The parameter bearBasis is a 2×2 matrix that is passed to the function.\n",
        "    # Use the gsBasis function on bearBasis to get the mirror's orthonormal basis.\n",
        "    E = gsBasis(bearBasis)\n",
        "    # Write a matrix in component form that performs the mirror's reflection in the mirror's basis.\n",
        "    # Recall, the mirror operates by negating the last component of a vector.\n",
        "    # Replace a,b,c,d with appropriate values\n",
        "    TE = np.array([[1,0],\n",
        "                   [0,-1]])\n",
        "    # Combine the matrices E and TE to produce your transformation matrix.\n",
        "    T = E @ TE @ inv(E)\n",
        "    # Finally, we return the result. There is no need to change this line.\n",
        "    return T\n"
      ],
      "execution_count": 2,
      "outputs": []
    },
    {
      "cell_type": "code",
      "metadata": {
        "id": "P5NLKT7PIzPg",
        "outputId": "185f2b10-08dd-43f3-e997-b58c25205783",
        "colab": {
          "base_uri": "https://localhost:8080/",
          "height": 350
        }
      },
      "source": [
        "# First load Pyplot, a graph plotting library.\n",
        "%matplotlib inline\n",
        "import matplotlib.pyplot as plt\n",
        "\n",
        "# This is the matrix of Bear's basis vectors.\n",
        "# (When you've done the exercise once, see what happns when you change Bear's basis.)\n",
        "bearBasis = np.array(\n",
        "    [[1,   -1],\n",
        "     [1.5, 2]])\n",
        "# This line uses your code to build a transformation matrix for us to use.\n",
        "T = build_reflection_matrix(bearBasis)\n",
        "\n",
        "# Bear is drawn as a set of polygons, the vertices of which are placed as a matrix list of column vectors.\n",
        "# We have three of these non-square matrix lists: bear_white_fur, bear_black_fur, and bear_face.\n",
        "# We'll make new lists of vertices by applying the T matrix you've calculated.\n",
        "reflected_bear_white_fur = T @ bear_white_fur\n",
        "reflected_bear_black_fur = T @ bear_black_fur\n",
        "reflected_bear_face = T @ bear_face\n",
        "\n",
        "# This next line runs a code to set up the graphics environment.\n",
        "ax = draw_mirror(bearBasis)\n",
        "\n",
        "# We'll first plot Bear, his white fur, his black fur, and his face.\n",
        "ax.fill(bear_white_fur[0], bear_white_fur[1], color=bear_white, zorder=1)\n",
        "ax.fill(bear_black_fur[0], bear_black_fur[1], color=bear_black, zorder=2)\n",
        "ax.plot(bear_face[0], bear_face[1], color=bear_white, zorder=3)\n",
        "\n",
        "# Next we'll plot Bear's reflection.\n",
        "ax.fill(reflected_bear_white_fur[0], reflected_bear_white_fur[1], color=bear_white, zorder=1)\n",
        "ax.fill(reflected_bear_black_fur[0], reflected_bear_black_fur[1], color=bear_black, zorder=2)\n",
        "ax.plot(reflected_bear_face[0], reflected_bear_face[1], color=bear_white, zorder=3);\n"
      ],
      "execution_count": 3,
      "outputs": [
        {
          "output_type": "error",
          "ename": "NameError",
          "evalue": "ignored",
          "traceback": [
            "\u001b[0;31m---------------------------------------------------------------------------\u001b[0m",
            "\u001b[0;31mNameError\u001b[0m                                 Traceback (most recent call last)",
            "\u001b[0;32m<ipython-input-3-ffd8eb861ef9>\u001b[0m in \u001b[0;36m<module>\u001b[0;34m()\u001b[0m\n\u001b[1;32m      9\u001b[0m      [1.5, 2]])\n\u001b[1;32m     10\u001b[0m \u001b[0;31m# This line uses your code to build a transformation matrix for us to use.\u001b[0m\u001b[0;34m\u001b[0m\u001b[0;34m\u001b[0m\u001b[0;34m\u001b[0m\u001b[0m\n\u001b[0;32m---> 11\u001b[0;31m \u001b[0mT\u001b[0m \u001b[0;34m=\u001b[0m \u001b[0mbuild_reflection_matrix\u001b[0m\u001b[0;34m(\u001b[0m\u001b[0mbearBasis\u001b[0m\u001b[0;34m)\u001b[0m\u001b[0;34m\u001b[0m\u001b[0;34m\u001b[0m\u001b[0m\n\u001b[0m\u001b[1;32m     12\u001b[0m \u001b[0;34m\u001b[0m\u001b[0m\n\u001b[1;32m     13\u001b[0m \u001b[0;31m# Bear is drawn as a set of polygons, the vertices of which are placed as a matrix list of column vectors.\u001b[0m\u001b[0;34m\u001b[0m\u001b[0;34m\u001b[0m\u001b[0;34m\u001b[0m\u001b[0m\n",
            "\u001b[0;32m<ipython-input-2-eeca63748737>\u001b[0m in \u001b[0;36mbuild_reflection_matrix\u001b[0;34m(bearBasis)\u001b[0m\n\u001b[1;32m      7\u001b[0m \u001b[0;32mdef\u001b[0m \u001b[0mbuild_reflection_matrix\u001b[0m\u001b[0;34m(\u001b[0m\u001b[0mbearBasis\u001b[0m\u001b[0;34m)\u001b[0m \u001b[0;34m:\u001b[0m \u001b[0;31m# The parameter bearBasis is a 2×2 matrix that is passed to the function.\u001b[0m\u001b[0;34m\u001b[0m\u001b[0;34m\u001b[0m\u001b[0m\n\u001b[1;32m      8\u001b[0m     \u001b[0;31m# Use the gsBasis function on bearBasis to get the mirror's orthonormal basis.\u001b[0m\u001b[0;34m\u001b[0m\u001b[0;34m\u001b[0m\u001b[0;34m\u001b[0m\u001b[0m\n\u001b[0;32m----> 9\u001b[0;31m     \u001b[0mE\u001b[0m \u001b[0;34m=\u001b[0m \u001b[0mgsBasis\u001b[0m\u001b[0;34m(\u001b[0m\u001b[0mbearBasis\u001b[0m\u001b[0;34m)\u001b[0m\u001b[0;34m\u001b[0m\u001b[0;34m\u001b[0m\u001b[0m\n\u001b[0m\u001b[1;32m     10\u001b[0m     \u001b[0;31m# Write a matrix in component form that performs the mirror's reflection in the mirror's basis.\u001b[0m\u001b[0;34m\u001b[0m\u001b[0;34m\u001b[0m\u001b[0;34m\u001b[0m\u001b[0m\n\u001b[1;32m     11\u001b[0m     \u001b[0;31m# Recall, the mirror operates by negating the last component of a vector.\u001b[0m\u001b[0;34m\u001b[0m\u001b[0;34m\u001b[0m\u001b[0;34m\u001b[0m\u001b[0m\n",
            "\u001b[0;31mNameError\u001b[0m: name 'gsBasis' is not defined"
          ]
        }
      ]
    }
  ]
}